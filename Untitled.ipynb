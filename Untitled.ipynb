{
 "cells": [
  {
   "cell_type": "markdown",
   "metadata": {
    "id": "1cZvod0hZvSf"
   },
   "source": [
    "#PROJETO 1- ESTATISTICA APLICADA A COMPUTAÇÃO;\n",
    "#Análise de Dados da PRF - 2021(Projeto 1)\n",
    "Aluno: Iago E. Santos Lucena;\n",
    "Professor: Paulo Ribeiro Lins Júnior"
   ]
  },
  {
   "cell_type": "markdown",
   "metadata": {
    "id": "_CBLWVn2a3U9"
   },
   "source": [
    "#Tarefa 1:\n",
    "-Baixar arquivos referentes a dados de 2021 e carregar em dataframes;\n",
    "#Tarefa 2:\n",
    "Explore os conjuntos de dados, respondendo as questões:\n",
    "(a) quantas infrações ocorreram em cada ano?\n",
    "(b) quantas variáveis cada conjunto de dados registra?\n",
    "(c) quais as cinco cidades brasileiras onde mais ocorreram infrações em rodovias federais?"
   ]
  },
  {
   "cell_type": "code",
   "execution_count": 3,
   "metadata": {
    "id": "qTwYObFHK5QN"
   },
   "outputs": [],
   "source": [
    "#importando bibliotecas:\n",
    "import pandas as pd\n",
    "import numpy as np\n",
    "from google.colab import drive"
   ]
  },
  {
   "cell_type": "code",
   "execution_count": 4,
   "metadata": {
    "colab": {
     "base_uri": "https://localhost:8080/"
    },
    "id": "aa3Cd8yiK_VW",
    "outputId": "faf3123b-00a4-4add-ba30-9fe4f016eea4"
   },
   "outputs": [
    {
     "name": "stdout",
     "output_type": "stream",
     "text": [
      "Mounted at /content/drive\n"
     ]
    }
   ],
   "source": [
    "drive.mount('/content/drive')"
   ]
  },
  {
   "cell_type": "code",
   "execution_count": 5,
   "metadata": {
    "colab": {
     "base_uri": "https://localhost:8080/"
    },
    "id": "WJXTVZNALpWx",
    "outputId": "53cd8738-07eb-4841-c0a3-47b492e4e48c"
   },
   "outputs": [
    {
     "name": "stderr",
     "output_type": "stream",
     "text": [
      "<ipython-input-5-c9d991b5141d>:13: DtypeWarning: Columns (19,20) have mixed types. Specify dtype option on import or set low_memory=False.\n",
      "  df1 = pd.read_csv(jan, encoding='latin-1', sep=\";\")\n",
      "<ipython-input-5-c9d991b5141d>:14: DtypeWarning: Columns (19,20) have mixed types. Specify dtype option on import or set low_memory=False.\n",
      "  df2 = pd.read_csv(fev, encoding='latin-1', sep=\";\")\n",
      "<ipython-input-5-c9d991b5141d>:15: DtypeWarning: Columns (19,20) have mixed types. Specify dtype option on import or set low_memory=False.\n",
      "  df3 = pd.read_csv(mar, encoding='latin-1', sep=\";\")\n",
      "<ipython-input-5-c9d991b5141d>:16: DtypeWarning: Columns (19,20) have mixed types. Specify dtype option on import or set low_memory=False.\n",
      "  df4 = pd.read_csv(abr, encoding='latin-1', sep=\";\")\n",
      "<ipython-input-5-c9d991b5141d>:17: DtypeWarning: Columns (19,20) have mixed types. Specify dtype option on import or set low_memory=False.\n",
      "  df5 = pd.read_csv(mai, encoding='latin-1', sep=\";\")\n",
      "<ipython-input-5-c9d991b5141d>:18: DtypeWarning: Columns (19,20) have mixed types. Specify dtype option on import or set low_memory=False.\n",
      "  df6 = pd.read_csv(jun, encoding='latin-1', sep=\";\")\n",
      "<ipython-input-5-c9d991b5141d>:19: DtypeWarning: Columns (19,20) have mixed types. Specify dtype option on import or set low_memory=False.\n",
      "  df7 = pd.read_csv(jul, encoding='latin-1', sep=\";\")\n",
      "<ipython-input-5-c9d991b5141d>:20: DtypeWarning: Columns (19,20) have mixed types. Specify dtype option on import or set low_memory=False.\n",
      "  df8 = pd.read_csv(ago, encoding='latin-1', sep=\";\")\n",
      "<ipython-input-5-c9d991b5141d>:21: DtypeWarning: Columns (19,20) have mixed types. Specify dtype option on import or set low_memory=False.\n",
      "  df9 = pd.read_csv(sete, encoding='latin-1', sep=\";\")\n",
      "<ipython-input-5-c9d991b5141d>:22: DtypeWarning: Columns (19,20) have mixed types. Specify dtype option on import or set low_memory=False.\n",
      "  df10 = pd.read_csv(out, encoding='latin-1', sep=\";\")\n",
      "<ipython-input-5-c9d991b5141d>:23: DtypeWarning: Columns (19,20) have mixed types. Specify dtype option on import or set low_memory=False.\n",
      "  df11 = pd.read_csv(nov, encoding='latin-1', sep=\";\")\n",
      "<ipython-input-5-c9d991b5141d>:24: DtypeWarning: Columns (19,20) have mixed types. Specify dtype option on import or set low_memory=False.\n",
      "  df12 = pd.read_csv(dez, encoding='latin-1', sep=\";\")\n"
     ]
    }
   ],
   "source": [
    "jan = './drive/MyDrive/estatistica-prf/infraЗoes2021_01.csv'\n",
    "fev = './drive/MyDrive/estatistica-prf/infraЗoes2021_02.csv'\n",
    "mar = './drive/MyDrive/estatistica-prf/infraЗoes2021_03.csv'\n",
    "abr = './drive/MyDrive/estatistica-prf/infraЗoes2021_04.csv'\n",
    "mai = './drive/MyDrive/estatistica-prf/infraЗoes2021_05.csv'\n",
    "jun = './drive/MyDrive/estatistica-prf/infraЗoes2021_06.csv'\n",
    "jul = './drive/MyDrive/estatistica-prf/infraЗoes2021_07.csv'\n",
    "ago = './drive/MyDrive/estatistica-prf/infraЗoes2021_08.csv'\n",
    "sete = './drive/MyDrive/estatistica-prf/infraЗoes2021_09.csv'\n",
    "out = './drive/MyDrive/estatistica-prf/infraЗoes2021_10.csv'\n",
    "nov = './drive/MyDrive/estatistica-prf/infraЗoes2021_11.csv'\n",
    "dez = './drive/MyDrive/estatistica-prf/infraЗoes2021_12.csv'\n",
    "df1 = pd.read_csv(jan, encoding='latin-1', sep=\";\")\n",
    "df2 = pd.read_csv(fev, encoding='latin-1', sep=\";\")\n",
    "df3 = pd.read_csv(mar, encoding='latin-1', sep=\";\")\n",
    "df4 = pd.read_csv(abr, encoding='latin-1', sep=\";\")\n",
    "df5 = pd.read_csv(mai, encoding='latin-1', sep=\";\")\n",
    "df6 = pd.read_csv(jun, encoding='latin-1', sep=\";\")\n",
    "df7 = pd.read_csv(jul, encoding='latin-1', sep=\";\")\n",
    "df8 = pd.read_csv(ago, encoding='latin-1', sep=\";\")\n",
    "df9 = pd.read_csv(sete, encoding='latin-1', sep=\";\")\n",
    "df10 = pd.read_csv(out, encoding='latin-1', sep=\";\")\n",
    "df11 = pd.read_csv(nov, encoding='latin-1', sep=\";\")\n",
    "df12 = pd.read_csv(dez, encoding='latin-1', sep=\";\")"
   ]
  },
  {
   "cell_type": "code",
   "execution_count": 28,
   "metadata": {
    "colab": {
     "base_uri": "https://localhost:8080/",
     "height": 557
    },
    "id": "NLqN8aY5bnBL",
    "outputId": "e8a5f252-5227-41b9-e0b3-43483a6099d5"
   },
   "outputs": [
    {
     "data": {
      "text/html": [
       "\n",
       "  <div id=\"df-40e4eb08-3dd1-4962-a341-6a230ae63898\">\n",
       "    <div class=\"colab-df-container\">\n",
       "      <div>\n",
       "<style scoped>\n",
       "    .dataframe tbody tr th:only-of-type {\n",
       "        vertical-align: middle;\n",
       "    }\n",
       "\n",
       "    .dataframe tbody tr th {\n",
       "        vertical-align: top;\n",
       "    }\n",
       "\n",
       "    .dataframe thead th {\n",
       "        text-align: right;\n",
       "    }\n",
       "</style>\n",
       "<table border=\"1\" class=\"dataframe\">\n",
       "  <thead>\n",
       "    <tr style=\"text-align: right;\">\n",
       "      <th></th>\n",
       "      <th>Número do Auto</th>\n",
       "      <th>Data da Infração (DD/MM/AAAA)</th>\n",
       "      <th>Indicador de Abordagem</th>\n",
       "      <th>Assinatura do Auto</th>\n",
       "      <th>Indicador Veiculo Estrangeiro</th>\n",
       "      <th>Sentido Trafego</th>\n",
       "      <th>UF Infração</th>\n",
       "      <th>BR Infração</th>\n",
       "      <th>Km Infração</th>\n",
       "      <th>Município</th>\n",
       "      <th>...</th>\n",
       "      <th>Enquadramento da Infração</th>\n",
       "      <th>Início Vigência da Infração</th>\n",
       "      <th>Fim Vigência Infração</th>\n",
       "      <th>Medição Infração</th>\n",
       "      <th>Descrição Especie Veículo</th>\n",
       "      <th>Descrição Marca Veículo</th>\n",
       "      <th>Hora Infração</th>\n",
       "      <th>Medição Considerada</th>\n",
       "      <th>Excesso Verificado</th>\n",
       "      <th>Qtd Infrações</th>\n",
       "    </tr>\n",
       "  </thead>\n",
       "  <tbody>\n",
       "    <tr>\n",
       "      <th>0</th>\n",
       "      <td>106198fa7cfe8e9</td>\n",
       "      <td>2021-01-08</td>\n",
       "      <td>S</td>\n",
       "      <td>N</td>\n",
       "      <td>N</td>\n",
       "      <td>C</td>\n",
       "      <td>ES</td>\n",
       "      <td>101</td>\n",
       "      <td>242</td>\n",
       "      <td>SERRA</td>\n",
       "      <td>...</td>\n",
       "      <td>209</td>\n",
       "      <td>2016-11-01</td>\n",
       "      <td>NaN</td>\n",
       "      <td>Nenhuma</td>\n",
       "      <td>TRAÇÃO</td>\n",
       "      <td>VOLVO</td>\n",
       "      <td>1</td>\n",
       "      <td>0</td>\n",
       "      <td>0</td>\n",
       "      <td>1</td>\n",
       "    </tr>\n",
       "    <tr>\n",
       "      <th>1</th>\n",
       "      <td>12963b279370873</td>\n",
       "      <td>2021-01-08</td>\n",
       "      <td>S</td>\n",
       "      <td>N</td>\n",
       "      <td>N</td>\n",
       "      <td>D</td>\n",
       "      <td>ES</td>\n",
       "      <td>101</td>\n",
       "      <td>242</td>\n",
       "      <td>SERRA</td>\n",
       "      <td>...</td>\n",
       "      <td>209</td>\n",
       "      <td>2016-11-01</td>\n",
       "      <td>NaN</td>\n",
       "      <td>Nenhuma</td>\n",
       "      <td>TRAÇÃO</td>\n",
       "      <td>VOLVO</td>\n",
       "      <td>16</td>\n",
       "      <td>0</td>\n",
       "      <td>0</td>\n",
       "      <td>1</td>\n",
       "    </tr>\n",
       "    <tr>\n",
       "      <th>2</th>\n",
       "      <td>6b7a329810761b4</td>\n",
       "      <td>2021-01-10</td>\n",
       "      <td>S</td>\n",
       "      <td>N</td>\n",
       "      <td>N</td>\n",
       "      <td>C</td>\n",
       "      <td>ES</td>\n",
       "      <td>101</td>\n",
       "      <td>242</td>\n",
       "      <td>SERRA</td>\n",
       "      <td>...</td>\n",
       "      <td>209</td>\n",
       "      <td>2016-11-01</td>\n",
       "      <td>NaN</td>\n",
       "      <td>Nenhuma</td>\n",
       "      <td>TRAÇÃO</td>\n",
       "      <td>OUTRA</td>\n",
       "      <td>7</td>\n",
       "      <td>0</td>\n",
       "      <td>0</td>\n",
       "      <td>1</td>\n",
       "    </tr>\n",
       "    <tr>\n",
       "      <th>3</th>\n",
       "      <td>a866e8850da632b</td>\n",
       "      <td>2021-01-11</td>\n",
       "      <td>S</td>\n",
       "      <td>N</td>\n",
       "      <td>N</td>\n",
       "      <td>C</td>\n",
       "      <td>ES</td>\n",
       "      <td>101</td>\n",
       "      <td>242</td>\n",
       "      <td>SERRA</td>\n",
       "      <td>...</td>\n",
       "      <td>209</td>\n",
       "      <td>2016-11-01</td>\n",
       "      <td>NaN</td>\n",
       "      <td>Nenhuma</td>\n",
       "      <td>MISTO</td>\n",
       "      <td>OUTRA</td>\n",
       "      <td>19</td>\n",
       "      <td>0</td>\n",
       "      <td>0</td>\n",
       "      <td>1</td>\n",
       "    </tr>\n",
       "    <tr>\n",
       "      <th>4</th>\n",
       "      <td>77bf454bcb08f99</td>\n",
       "      <td>2021-01-12</td>\n",
       "      <td>S</td>\n",
       "      <td>N</td>\n",
       "      <td>N</td>\n",
       "      <td>D</td>\n",
       "      <td>ES</td>\n",
       "      <td>101</td>\n",
       "      <td>242</td>\n",
       "      <td>SERRA</td>\n",
       "      <td>...</td>\n",
       "      <td>209</td>\n",
       "      <td>2016-11-01</td>\n",
       "      <td>NaN</td>\n",
       "      <td>Nenhuma</td>\n",
       "      <td>CARGA</td>\n",
       "      <td>MERCEDES BENZ</td>\n",
       "      <td>11</td>\n",
       "      <td>0</td>\n",
       "      <td>0</td>\n",
       "      <td>1</td>\n",
       "    </tr>\n",
       "    <tr>\n",
       "      <th>...</th>\n",
       "      <td>...</td>\n",
       "      <td>...</td>\n",
       "      <td>...</td>\n",
       "      <td>...</td>\n",
       "      <td>...</td>\n",
       "      <td>...</td>\n",
       "      <td>...</td>\n",
       "      <td>...</td>\n",
       "      <td>...</td>\n",
       "      <td>...</td>\n",
       "      <td>...</td>\n",
       "      <td>...</td>\n",
       "      <td>...</td>\n",
       "      <td>...</td>\n",
       "      <td>...</td>\n",
       "      <td>...</td>\n",
       "      <td>...</td>\n",
       "      <td>...</td>\n",
       "      <td>...</td>\n",
       "      <td>...</td>\n",
       "      <td>...</td>\n",
       "    </tr>\n",
       "    <tr>\n",
       "      <th>414766</th>\n",
       "      <td>fc1dae9576ea34b</td>\n",
       "      <td>2021-12-30</td>\n",
       "      <td>S</td>\n",
       "      <td>N</td>\n",
       "      <td>N</td>\n",
       "      <td>D</td>\n",
       "      <td>SC</td>\n",
       "      <td>470</td>\n",
       "      <td>70</td>\n",
       "      <td>INDAIAL</td>\n",
       "      <td>...</td>\n",
       "      <td>244 X</td>\n",
       "      <td>2021-04-12</td>\n",
       "      <td>NaN</td>\n",
       "      <td>Nenhuma</td>\n",
       "      <td>PASSAGEIRO</td>\n",
       "      <td>HONDA</td>\n",
       "      <td>18</td>\n",
       "      <td>0</td>\n",
       "      <td>0</td>\n",
       "      <td>1</td>\n",
       "    </tr>\n",
       "    <tr>\n",
       "      <th>414767</th>\n",
       "      <td>5bf77a904246fbb</td>\n",
       "      <td>2021-12-30</td>\n",
       "      <td>S</td>\n",
       "      <td>N</td>\n",
       "      <td>N</td>\n",
       "      <td>C</td>\n",
       "      <td>SC</td>\n",
       "      <td>470</td>\n",
       "      <td>60</td>\n",
       "      <td>BLUMENAU</td>\n",
       "      <td>...</td>\n",
       "      <td>250 I d</td>\n",
       "      <td>2021-04-12</td>\n",
       "      <td>NaN</td>\n",
       "      <td>Nenhuma</td>\n",
       "      <td>PASSAGEIRO</td>\n",
       "      <td>YAMAHA</td>\n",
       "      <td>9</td>\n",
       "      <td>0</td>\n",
       "      <td>0</td>\n",
       "      <td>1</td>\n",
       "    </tr>\n",
       "    <tr>\n",
       "      <th>414768</th>\n",
       "      <td>0b765f11acbaa90</td>\n",
       "      <td>2021-12-30</td>\n",
       "      <td>S</td>\n",
       "      <td>N</td>\n",
       "      <td>N</td>\n",
       "      <td>C</td>\n",
       "      <td>SC</td>\n",
       "      <td>470</td>\n",
       "      <td>60</td>\n",
       "      <td>BLUMENAU</td>\n",
       "      <td>...</td>\n",
       "      <td>244 VII</td>\n",
       "      <td>2016-11-01</td>\n",
       "      <td>NaN</td>\n",
       "      <td>Nenhuma</td>\n",
       "      <td>PASSAGEIRO</td>\n",
       "      <td>YAMAHA</td>\n",
       "      <td>9</td>\n",
       "      <td>0</td>\n",
       "      <td>0</td>\n",
       "      <td>1</td>\n",
       "    </tr>\n",
       "    <tr>\n",
       "      <th>414769</th>\n",
       "      <td>f0b5cf3823828c6</td>\n",
       "      <td>2021-12-30</td>\n",
       "      <td>S</td>\n",
       "      <td>N</td>\n",
       "      <td>N</td>\n",
       "      <td>C</td>\n",
       "      <td>SC</td>\n",
       "      <td>470</td>\n",
       "      <td>60</td>\n",
       "      <td>BLUMENAU</td>\n",
       "      <td>...</td>\n",
       "      <td>244 VII</td>\n",
       "      <td>2016-11-01</td>\n",
       "      <td>NaN</td>\n",
       "      <td>Nenhuma</td>\n",
       "      <td>PASSAGEIRO</td>\n",
       "      <td>OUTRA</td>\n",
       "      <td>9</td>\n",
       "      <td>0</td>\n",
       "      <td>0</td>\n",
       "      <td>1</td>\n",
       "    </tr>\n",
       "    <tr>\n",
       "      <th>414770</th>\n",
       "      <td>53ed928f89652a5</td>\n",
       "      <td>2021-12-30</td>\n",
       "      <td>S</td>\n",
       "      <td>N</td>\n",
       "      <td>N</td>\n",
       "      <td>D</td>\n",
       "      <td>SC</td>\n",
       "      <td>470</td>\n",
       "      <td>70</td>\n",
       "      <td>INDAIAL</td>\n",
       "      <td>...</td>\n",
       "      <td>215 I a</td>\n",
       "      <td>2016-11-01</td>\n",
       "      <td>NaN</td>\n",
       "      <td>Nenhuma</td>\n",
       "      <td>PASSAGEIRO</td>\n",
       "      <td>VW</td>\n",
       "      <td>19</td>\n",
       "      <td>0</td>\n",
       "      <td>0</td>\n",
       "      <td>1</td>\n",
       "    </tr>\n",
       "  </tbody>\n",
       "</table>\n",
       "<p>5241299 rows × 22 columns</p>\n",
       "</div>\n",
       "      <button class=\"colab-df-convert\" onclick=\"convertToInteractive('df-40e4eb08-3dd1-4962-a341-6a230ae63898')\"\n",
       "              title=\"Convert this dataframe to an interactive table.\"\n",
       "              style=\"display:none;\">\n",
       "        \n",
       "  <svg xmlns=\"http://www.w3.org/2000/svg\" height=\"24px\"viewBox=\"0 0 24 24\"\n",
       "       width=\"24px\">\n",
       "    <path d=\"M0 0h24v24H0V0z\" fill=\"none\"/>\n",
       "    <path d=\"M18.56 5.44l.94 2.06.94-2.06 2.06-.94-2.06-.94-.94-2.06-.94 2.06-2.06.94zm-11 1L8.5 8.5l.94-2.06 2.06-.94-2.06-.94L8.5 2.5l-.94 2.06-2.06.94zm10 10l.94 2.06.94-2.06 2.06-.94-2.06-.94-.94-2.06-.94 2.06-2.06.94z\"/><path d=\"M17.41 7.96l-1.37-1.37c-.4-.4-.92-.59-1.43-.59-.52 0-1.04.2-1.43.59L10.3 9.45l-7.72 7.72c-.78.78-.78 2.05 0 2.83L4 21.41c.39.39.9.59 1.41.59.51 0 1.02-.2 1.41-.59l7.78-7.78 2.81-2.81c.8-.78.8-2.07 0-2.86zM5.41 20L4 18.59l7.72-7.72 1.47 1.35L5.41 20z\"/>\n",
       "  </svg>\n",
       "      </button>\n",
       "      \n",
       "  <style>\n",
       "    .colab-df-container {\n",
       "      display:flex;\n",
       "      flex-wrap:wrap;\n",
       "      gap: 12px;\n",
       "    }\n",
       "\n",
       "    .colab-df-convert {\n",
       "      background-color: #E8F0FE;\n",
       "      border: none;\n",
       "      border-radius: 50%;\n",
       "      cursor: pointer;\n",
       "      display: none;\n",
       "      fill: #1967D2;\n",
       "      height: 32px;\n",
       "      padding: 0 0 0 0;\n",
       "      width: 32px;\n",
       "    }\n",
       "\n",
       "    .colab-df-convert:hover {\n",
       "      background-color: #E2EBFA;\n",
       "      box-shadow: 0px 1px 2px rgba(60, 64, 67, 0.3), 0px 1px 3px 1px rgba(60, 64, 67, 0.15);\n",
       "      fill: #174EA6;\n",
       "    }\n",
       "\n",
       "    [theme=dark] .colab-df-convert {\n",
       "      background-color: #3B4455;\n",
       "      fill: #D2E3FC;\n",
       "    }\n",
       "\n",
       "    [theme=dark] .colab-df-convert:hover {\n",
       "      background-color: #434B5C;\n",
       "      box-shadow: 0px 1px 3px 1px rgba(0, 0, 0, 0.15);\n",
       "      filter: drop-shadow(0px 1px 2px rgba(0, 0, 0, 0.3));\n",
       "      fill: #FFFFFF;\n",
       "    }\n",
       "  </style>\n",
       "\n",
       "      <script>\n",
       "        const buttonEl =\n",
       "          document.querySelector('#df-40e4eb08-3dd1-4962-a341-6a230ae63898 button.colab-df-convert');\n",
       "        buttonEl.style.display =\n",
       "          google.colab.kernel.accessAllowed ? 'block' : 'none';\n",
       "\n",
       "        async function convertToInteractive(key) {\n",
       "          const element = document.querySelector('#df-40e4eb08-3dd1-4962-a341-6a230ae63898');\n",
       "          const dataTable =\n",
       "            await google.colab.kernel.invokeFunction('convertToInteractive',\n",
       "                                                     [key], {});\n",
       "          if (!dataTable) return;\n",
       "\n",
       "          const docLinkHtml = 'Like what you see? Visit the ' +\n",
       "            '<a target=\"_blank\" href=https://colab.research.google.com/notebooks/data_table.ipynb>data table notebook</a>'\n",
       "            + ' to learn more about interactive tables.';\n",
       "          element.innerHTML = '';\n",
       "          dataTable['output_type'] = 'display_data';\n",
       "          await google.colab.output.renderOutput(dataTable, element);\n",
       "          const docLink = document.createElement('div');\n",
       "          docLink.innerHTML = docLinkHtml;\n",
       "          element.appendChild(docLink);\n",
       "        }\n",
       "      </script>\n",
       "    </div>\n",
       "  </div>\n",
       "  "
      ],
      "text/plain": [
       "         Número do Auto Data da Infração (DD/MM/AAAA) Indicador de Abordagem  \\\n",
       "0       106198fa7cfe8e9                    2021-01-08                      S   \n",
       "1       12963b279370873                    2021-01-08                      S   \n",
       "2       6b7a329810761b4                    2021-01-10                      S   \n",
       "3       a866e8850da632b                    2021-01-11                      S   \n",
       "4       77bf454bcb08f99                    2021-01-12                      S   \n",
       "...                 ...                           ...                    ...   \n",
       "414766  fc1dae9576ea34b                    2021-12-30                      S   \n",
       "414767  5bf77a904246fbb                    2021-12-30                      S   \n",
       "414768  0b765f11acbaa90                    2021-12-30                      S   \n",
       "414769  f0b5cf3823828c6                    2021-12-30                      S   \n",
       "414770  53ed928f89652a5                    2021-12-30                      S   \n",
       "\n",
       "       Assinatura do Auto Indicador Veiculo Estrangeiro Sentido Trafego  \\\n",
       "0                       N                             N               C   \n",
       "1                       N                             N               D   \n",
       "2                       N                             N               C   \n",
       "3                       N                             N               C   \n",
       "4                       N                             N               D   \n",
       "...                   ...                           ...             ...   \n",
       "414766                  N                             N               D   \n",
       "414767                  N                             N               C   \n",
       "414768                  N                             N               C   \n",
       "414769                  N                             N               C   \n",
       "414770                  N                             N               D   \n",
       "\n",
       "       UF Infração  BR Infração  Km Infração Município  ...  \\\n",
       "0               ES          101          242     SERRA  ...   \n",
       "1               ES          101          242     SERRA  ...   \n",
       "2               ES          101          242     SERRA  ...   \n",
       "3               ES          101          242     SERRA  ...   \n",
       "4               ES          101          242     SERRA  ...   \n",
       "...            ...          ...          ...       ...  ...   \n",
       "414766          SC          470           70   INDAIAL  ...   \n",
       "414767          SC          470           60  BLUMENAU  ...   \n",
       "414768          SC          470           60  BLUMENAU  ...   \n",
       "414769          SC          470           60  BLUMENAU  ...   \n",
       "414770          SC          470           70   INDAIAL  ...   \n",
       "\n",
       "        Enquadramento da Infração Início Vigência da Infração  \\\n",
       "0                             209                  2016-11-01   \n",
       "1                             209                  2016-11-01   \n",
       "2                             209                  2016-11-01   \n",
       "3                             209                  2016-11-01   \n",
       "4                             209                  2016-11-01   \n",
       "...                           ...                         ...   \n",
       "414766                      244 X                  2021-04-12   \n",
       "414767                    250 I d                  2021-04-12   \n",
       "414768                    244 VII                  2016-11-01   \n",
       "414769                    244 VII                  2016-11-01   \n",
       "414770                    215 I a                  2016-11-01   \n",
       "\n",
       "       Fim Vigência Infração Medição Infração  Descrição Especie Veículo  \\\n",
       "0                        NaN          Nenhuma                     TRAÇÃO   \n",
       "1                        NaN          Nenhuma                     TRAÇÃO   \n",
       "2                        NaN          Nenhuma                     TRAÇÃO   \n",
       "3                        NaN          Nenhuma                      MISTO   \n",
       "4                        NaN          Nenhuma                      CARGA   \n",
       "...                      ...              ...                        ...   \n",
       "414766                   NaN          Nenhuma                 PASSAGEIRO   \n",
       "414767                   NaN          Nenhuma                 PASSAGEIRO   \n",
       "414768                   NaN          Nenhuma                 PASSAGEIRO   \n",
       "414769                   NaN          Nenhuma                 PASSAGEIRO   \n",
       "414770                   NaN          Nenhuma                 PASSAGEIRO   \n",
       "\n",
       "       Descrição Marca Veículo Hora Infração Medição Considerada  \\\n",
       "0                        VOLVO             1                   0   \n",
       "1                        VOLVO            16                   0   \n",
       "2                        OUTRA             7                   0   \n",
       "3                        OUTRA            19                   0   \n",
       "4                MERCEDES BENZ            11                   0   \n",
       "...                        ...           ...                 ...   \n",
       "414766                   HONDA            18                   0   \n",
       "414767                  YAMAHA             9                   0   \n",
       "414768                  YAMAHA             9                   0   \n",
       "414769                   OUTRA             9                   0   \n",
       "414770                      VW            19                   0   \n",
       "\n",
       "        Excesso Verificado Qtd Infrações  \n",
       "0                        0             1  \n",
       "1                        0             1  \n",
       "2                        0             1  \n",
       "3                        0             1  \n",
       "4                        0             1  \n",
       "...                    ...           ...  \n",
       "414766                   0             1  \n",
       "414767                   0             1  \n",
       "414768                   0             1  \n",
       "414769                   0             1  \n",
       "414770                   0             1  \n",
       "\n",
       "[5241299 rows x 22 columns]"
      ]
     },
     "execution_count": 28,
     "metadata": {},
     "output_type": "execute_result"
    }
   ],
   "source": [
    "# carregando os dados em um dataframe\n",
    "meses = pd.concat([df1,df2,df3,df4,df5,df6,df7,df8,df9,df10,df11,df12],axis=0)\n",
    "meses\n"
   ]
  },
  {
   "cell_type": "code",
   "execution_count": 8,
   "metadata": {
    "id": "N8-A4R-HffBR"
   },
   "outputs": [],
   "source": [
    "# convertendo a coluna de datas para o tipo datetime\n",
    "meses[\"Data da Infração (DD/MM/AAAA)\"] = pd.to_datetime(meses[\"Data da Infração (DD/MM/AAAA)\"])"
   ]
  },
  {
   "cell_type": "code",
   "execution_count": 9,
   "metadata": {
    "id": "QQ6uS-LtNkpN"
   },
   "outputs": [],
   "source": [
    "# criando uma coluna com o mês de cada infração\n",
    "meses[\"mes\"] = meses[\"Data da Infração (DD/MM/AAAA)\"].dt.month"
   ]
  },
  {
   "cell_type": "code",
   "execution_count": 12,
   "metadata": {
    "id": "BZj7PHUrN82Y"
   },
   "outputs": [],
   "source": [
    "# contando o número de infrações por mês\n",
    "infra_por_mes = meses.groupby(\"mes\")[\"Indicador de Abordagem\"].count()"
   ]
  },
  {
   "cell_type": "code",
   "execution_count": 13,
   "metadata": {
    "colab": {
     "base_uri": "https://localhost:8080/"
    },
    "id": "pOZGXAKSONn4",
    "outputId": "a2618399-e9fc-48a7-ad95-de85d36da403"
   },
   "outputs": [
    {
     "name": "stdout",
     "output_type": "stream",
     "text": [
      "mes\n",
      "1     442458\n",
      "2     441593\n",
      "3     380688\n",
      "4     374764\n",
      "5     412057\n",
      "6     456576\n",
      "7     470598\n",
      "8     496155\n",
      "9     503323\n",
      "10    477682\n",
      "11    370634\n",
      "12    414771\n",
      "Name: Indicador de Abordagem, dtype: int64\n"
     ]
    }
   ],
   "source": [
    "#a) quantas infrações ocorreram em cada ano?\n",
    "print(infra_por_mes)"
   ]
  },
  {
   "cell_type": "code",
   "execution_count": 15,
   "metadata": {
    "id": "VZc7TA9oPVUv"
   },
   "outputs": [],
   "source": [
    "# contando o número de colunas preenchidas por mês\n",
    "quant_de_coluna = meses.groupby(\"mes\").sum()"
   ]
  },
  {
   "cell_type": "code",
   "execution_count": 16,
   "metadata": {
    "colab": {
     "base_uri": "https://localhost:8080/"
    },
    "id": "WS33yxKgP86K",
    "outputId": "e20e5e7b-766f-47ab-902e-f67660177320"
   },
   "outputs": [
    {
     "name": "stdout",
     "output_type": "stream",
     "text": [
      "     BR Infração  Km Infração  Código da Infração  Fim Vigência Infração  \\\n",
      "mes                                                                        \n",
      "1       83214525    133314884         30208005285                    0.0   \n",
      "2       88726695    126759024         29904365866                    0.0   \n",
      "3       74514964    118182083         26360492614                    0.0   \n",
      "4       73330946    113104542         25902965057                    0.0   \n",
      "5       80214525    124438080         28524989657                    0.0   \n",
      "6       89283743    145263414         31526875046                    0.0   \n",
      "7       90733042    142553380         32415257778                    0.0   \n",
      "8       95835660    152184196         34191482746                    0.0   \n",
      "9       95132244    149531645         34608348649                    0.0   \n",
      "10      93055780    143830651         32573355152                    0.0   \n",
      "11      69271569    108730181         24774486340                    0.0   \n",
      "12      77838659    123910708         27622832017                    0.0   \n",
      "\n",
      "     Hora Infração  Qtd Infrações  \n",
      "mes                                \n",
      "1          5625873         442458  \n",
      "2          5681882         441593  \n",
      "3          4852454         380688  \n",
      "4          4789383         374764  \n",
      "5          5225629         412057  \n",
      "6          5804886         456576  \n",
      "7          6001038         470598  \n",
      "8          6356417         496155  \n",
      "9          6390213         503323  \n",
      "10         6064739         477682  \n",
      "11         4823480         370634  \n",
      "12         5418616         414771  \n"
     ]
    }
   ],
   "source": [
    "#(b) quantas variáveis cada conjunto de dados registra?\n",
    "print(quant_de_coluna)"
   ]
  },
  {
   "cell_type": "code",
   "execution_count": 17,
   "metadata": {
    "id": "evr4A7heQ1gh"
   },
   "outputs": [],
   "source": [
    "# selecionando apenas as colunas de interesse (cidade e id)\n",
    "meses = meses[[\"Município\", \"Indicador de Abordagem\"]]"
   ]
  },
  {
   "cell_type": "code",
   "execution_count": 18,
   "metadata": {
    "id": "e6MaX0ESRHXA"
   },
   "outputs": [],
   "source": [
    "# agrupando as infrações por cidade e contando o número de infrações em cada grupo\n",
    "infra_por_cidade = meses.groupby(\"Município\")[\"Indicador de Abordagem\"].count()"
   ]
  },
  {
   "cell_type": "code",
   "execution_count": 19,
   "metadata": {
    "id": "K4azfUVbRZDL"
   },
   "outputs": [],
   "source": [
    "# ordenando as cidades por número de infrações e selecionando as cinco com mais infrações\n",
    "top_cidades = infra_por_cidade.sort_values(ascending=False)[:5]"
   ]
  },
  {
   "cell_type": "code",
   "execution_count": 20,
   "metadata": {
    "colab": {
     "base_uri": "https://localhost:8080/"
    },
    "id": "n5Z3N2tvRbIi",
    "outputId": "04106ed6-8278-4a6f-c047-95c9aaec252e"
   },
   "outputs": [
    {
     "name": "stdout",
     "output_type": "stream",
     "text": [
      "Município\n",
      "RIO DE JANEIRO    194011\n",
      "NITEROI           173277\n",
      "MAIRIPORA         136054\n",
      "BELO HORIZONTE    124818\n",
      "ITABORAI          112712\n",
      "Name: Indicador de Abordagem, dtype: int64\n"
     ]
    }
   ],
   "source": [
    "#c) quais as cinco cidades brasileiras onde mais ocorreram infrações em rodovias federais?\n",
    "print(top_cidades)"
   ]
  },
  {
   "cell_type": "markdown",
   "metadata": {
    "id": "4vi0D3ZrbcqP"
   },
   "source": [
    "#Tarefa 3:\n",
    "Para cada indicação abaixo, construa um novo dataframe, salvando-o com a terminação .csv.\n",
    "(a) ranking de infrações por estado;\n",
    "(b) infrações por dia da semana para o ano inteiro."
   ]
  },
  {
   "cell_type": "code",
   "execution_count": null,
   "metadata": {
    "id": "anWpYXzATDLX"
   },
   "outputs": [],
   "source": [
    "# selecionando apenas as colunas de interesse (estado, dia_da_semana e id)\n",
    "meses = meses[[\"UF Infração\", \"Início Vigência da Infração\", \"Indicador de Abordagem\"]]"
   ]
  },
  {
   "cell_type": "code",
   "execution_count": 30,
   "metadata": {
    "id": "Q7BR2NaQUgZI"
   },
   "outputs": [],
   "source": [
    "# criando um dataframe com o ranking de infrações por estado\n",
    "infra_por_estado = meses.groupby(\"UF Infração\")[\"Indicador de Abordagem\"].count().reset_index()\n",
    "infra_por_estado = infra_por_estado.rename(columns={\"Indicador de Abordagem\": \"infrações\"})\n",
    "infra_por_estado = infra_por_estado.sort_values(\"infrações\", ascending=False).reset_index(drop=True)\n",
    "infra_por_estado.index += 1\n",
    "infra_por_estado.to_csv(\"ranking_infrações_por_estado.csv\", index_label=\"ranking\")"
   ]
  },
  {
   "cell_type": "code",
   "execution_count": 32,
   "metadata": {
    "id": "x6geXtpMY1v5"
   },
   "outputs": [],
   "source": [
    "# criando um dataframe com as infrações por dia da semana\n",
    "infra_por_dia_da_semana = meses.groupby(\"Início Vigência da Infração\")[\"Indicador de Abordagem\"].count().reset_index()\n",
    "infra_por_dia_da_semana = infra_por_dia_da_semana.rename(columns={\"Indicador de Abordagem\": \"infrações\"})\n",
    "infra_por_dia_da_semana.to_csv(\"infrações_por_dia_da_semana.csv\", index=False)"
   ]
  },
  {
   "cell_type": "code",
   "execution_count": 33,
   "metadata": {
    "colab": {
     "base_uri": "https://localhost:8080/"
    },
    "id": "QBt80xKyZOeO",
    "outputId": "cff8bf38-6348-4470-a1fe-ce4afc5c3e17"
   },
   "outputs": [
    {
     "name": "stdout",
     "output_type": "stream",
     "text": [
      "Arquivos salvos com sucesso!\n"
     ]
    }
   ],
   "source": [
    "print(\"Arquivos salvos com sucesso!\")"
   ]
  }
 ],
 "metadata": {
  "colab": {
   "provenance": []
  },
  "kernelspec": {
   "display_name": "Python 3 (ipykernel)",
   "language": "python",
   "name": "python3"
  },
  "language_info": {
   "codemirror_mode": {
    "name": "ipython",
    "version": 3
   },
   "file_extension": ".py",
   "mimetype": "text/x-python",
   "name": "python",
   "nbconvert_exporter": "python",
   "pygments_lexer": "ipython3",
   "version": "3.10.6"
  }
 },
 "nbformat": 4,
 "nbformat_minor": 1
}
